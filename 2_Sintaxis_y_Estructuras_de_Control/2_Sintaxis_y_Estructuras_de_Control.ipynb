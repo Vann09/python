{
 "metadata": {
  "language_info": {
   "codemirror_mode": {
    "name": "ipython",
    "version": 3
   },
   "file_extension": ".py",
   "mimetype": "text/x-python",
   "name": "python",
   "nbconvert_exporter": "python",
   "pygments_lexer": "ipython3",
   "version": "3.9.4"
  },
  "orig_nbformat": 2,
  "kernelspec": {
   "name": "python394jvsc74a57bd088d28c3b2c87bcc8828948ddc890a67dc48744aea09b05146b727a7e5f9c631a",
   "display_name": "Python 3.9.4 64-bit"
  },
  "metadata": {
   "interpreter": {
    "hash": "88d28c3b2c87bcc8828948ddc890a67dc48744aea09b05146b727a7e5f9c631a"
   }
  }
 },
 "nbformat": 4,
 "nbformat_minor": 2,
 "cells": [
  {
   "source": [
    "#Declaro variables y asigno un valor inicial\n",
    "numero = 10\n",
    "Numero = 20\n",
    "num = 0.5\n",
    "saludo = \"Hola a todos!!\"\n",
    "\n",
    "#Muestro contenido de las variables en pantalla\n",
    "print (numero)\n",
    "print(Numero)  #Cuidado, diferencia entre mayus y minus\n",
    "print(num)\n",
    "print (saludo)\n",
    "print (\"\")\n",
    "print((Numero - numero)*(numero / Numero))\n",
    "print(numero / Numero)\n",
    "print (numero % Numero) #Modulo o resto de la división\n",
    "print (\"Saludo:\"+ saludo)\n",
    "print (\"\")  #Lo hago por estetica al ejecutar, me pone un espacio\n",
    "\n",
    "#Muestro tipo de variable en pantalla\n",
    "print(type(numero))\n",
    "print(type(num))\n",
    "print(type(saludo))\n",
    "print (\"\")\n",
    "\n",
    "#Consulto el tipo de diferentes valores utilizando la funcion TYPE\n",
    "print(type(3))\n",
    "print(type(3.1))\n",
    "print(type(\"3\"))\n",
    "print(type(\"pizza\"))\n",
    "print(type(1==1))\n",
    "print(type({\"name\":\"madrid\", \"number\":27}))\n",
    "print(type((\"1\",\"2\",\"3\")))\n",
    "print(type([\"1\",\"2\",\"3\"]))\n",
    "print(type({\"1\",\"2\",\"3\"}))"
   ],
   "cell_type": "code",
   "metadata": {},
   "execution_count": 9,
   "outputs": [
    {
     "output_type": "stream",
     "name": "stdout",
     "text": [
      "10\n20\n0.5\nHola a todos!!\n\n5.0\n0.5\n10\nSaludo:Hola a todos!!\n\n<class 'int'>\n<class 'float'>\n<class 'str'>\n\n<class 'int'>\n<class 'float'>\n<class 'str'>\n<class 'str'>\n<class 'bool'>\n<class 'dict'>\n<class 'tuple'>\n<class 'list'>\n<class 'set'>\n"
     ]
    }
   ]
  },
  {
   "cell_type": "code",
   "execution_count": 16,
   "metadata": {},
   "outputs": [
    {
     "output_type": "stream",
     "name": "stdout",
     "text": [
      "Intento 1. Forma mala.\n10\n10\n\nIntento 2. Forma que funciona.\n10\n5\n\nIntento 3. Forma de Python.\n10\n5\n\n"
     ]
    }
   ],
   "source": [
    "#Cambio b por a. Intento 1. Forma mala\n",
    "a = 5\n",
    "b = 10\n",
    "a = b #a vale 10 al asignar el valor de b\n",
    "b = a #b vale 10 porque coge el valor asignado previamente a a\n",
    "print(\"Intento 1. Forma mala.\")\n",
    "print(a)\n",
    "print(b)\n",
    "print(\"\")\n",
    "\n",
    "#Cambio b por a. Intento 2. Forma que funciona\n",
    "a = 5\n",
    "b = 10\n",
    "\n",
    "temp = a #Asigno a temp el valor de a (5)\n",
    "a = b\n",
    "b = temp #b vale 5 porque coge el valor asignado a temp\n",
    "print(\"Intento 2. Forma que funciona.\")\n",
    "print(a)\n",
    "print(b)\n",
    "print(\"\")\n",
    "\n",
    "#Cambio b por a. Intento 3. Forma de Python\n",
    "a=5\n",
    "b=10\n",
    "a,b = b,a  #Semanticamente indica a Python que debe evaluar todas las expresiones de la parte derecha de = en primer lugar y asignar los valores resultantes de las evaluaciones a las variables de la parte izquierda del operador de asignacion (a=b, b=a)#\n",
    "\n",
    "print(\"Intento 3. Forma de Python.\")\n",
    "print(a)\n",
    "print(b)\n",
    "print(\"\")"
   ]
  },
  {
   "cell_type": "code",
   "execution_count": 17,
   "metadata": {},
   "outputs": [
    {
     "output_type": "stream",
     "name": "stdout",
     "text": [
      "Numero:5\nNumero:6\n25\n26\n30\n25.7\n26.0\n30.0\n"
     ]
    }
   ],
   "source": [
    "#Intercambio de variables de texto a número\n",
    "a = 5\n",
    "b = \"25\"\n",
    "c = \"25.7\"\n",
    "d = 1\n",
    "\n",
    "print (\"Numero:\" + str(a)) #Transformo un numero a texto\n",
    "print (\"Numero:\" + str(a+d))\n",
    "print (int(b)) #Transformo un texto a numero entero\n",
    "print (int(b)+d)\n",
    "print (int(b)+5)\n",
    "print (float(c)) #Transformo un texto a numero decimal\n",
    "print (float(c)+0.3)\n",
    "print (float(b)+a)"
   ]
  },
  {
   "cell_type": "code",
   "execution_count": 34,
   "metadata": {},
   "outputs": [
    {
     "output_type": "stream",
     "name": "stdout",
     "text": [
      "l\nla Mundo 1\nHo\nla M\no\n\nH-la Mund- 1\nH+la Mund+ 1\nHOLA MUNDO 1\nhola mundo 1\nHola mundo 1\nFalse\nFalse\n\n12\n"
     ]
    }
   ],
   "source": [
    "#Cadenas de caracteres\n",
    "cadena = \"Hola Mundo 1\"\n",
    "newcadena = cadena.replace(\"o\",\"-\")\n",
    "\n",
    "print (cadena[2]) #Empieza contando desde 0\n",
    "print (cadena[2:]) #Enseña desde la posicion 2 incluida\n",
    "print (cadena[:2]) #Enseña hasta la posicion 2 no incluida\n",
    "print (cadena[2:6]) #Enseña desde 2 hasta 6 (6 no incluida)\n",
    "print (cadena[-3]) #Enseña contando desde el final\n",
    "print (\"\")\n",
    "\n",
    "print (newcadena)\n",
    "print (cadena.replace(\"o\",\"+\")) #Cambia la o por +\n",
    "print (cadena.upper()) #Pone todo en mayus\n",
    "print (cadena.lower()) #Pone todo en minus\n",
    "print (cadena.capitalize()) #Pone en mayuscula la primera letra\n",
    "print (cadena.isdigit()) #Si contiene solo digitos, devuelve true o false\n",
    "print (cadena.isupper()) #Si esta todo en mayusculas\n",
    "print(\"\")\n",
    "\n",
    "print (len(cadena)) #Cuenta numero de caracteres, espacios en blanco los cuenta tambien"
   ]
  },
  {
   "cell_type": "code",
   "execution_count": 9,
   "metadata": {},
   "outputs": [
    {
     "output_type": "stream",
     "name": "stdout",
     "text": [
      "Tu edad es 23.\nTu edad es 23.\nTu edad es 23.\nTu edad es 23.\n\n33.333333333333336\nTu resultado es 33.3.\nTu resultado es 33.333.\n33.333\nTu resultado es 33.333333333333336.\n"
     ]
    }
   ],
   "source": [
    "#Input y formateo\n",
    "edad = input(\"Dime tu edad:\")\n",
    "print (\"Tu edad es \" + edad + \".\")\n",
    "print (\"Tu edad es {}.\".format(edad))\n",
    "print (\"Tu edad es {e}.\".format(e=edad))\n",
    "print (f\"Tu edad es {edad}.\") #Forma optima\n",
    "print (\"\")\n",
    "\n",
    "numero = 100/3\n",
    "print (numero)\n",
    "print (\"Tu resultado es {n:1.1f}.\".format(n=numero)) #Enseña un decimal\n",
    "print (\"Tu resultado es {n:1.3f}.\".format(n=numero)) #Enseña tres decimales\n",
    "print (\"{n:1.3f}\".format(n=numero))\n",
    "print (f\"Tu resultado es {numero}.\")"
   ]
  },
  {
   "cell_type": "code",
   "execution_count": 25,
   "metadata": {},
   "outputs": [
    {
     "output_type": "stream",
     "name": "stdout",
     "text": [
      "A es mayor a 50.\n"
     ]
    }
   ],
   "source": [
    "a = 55\n",
    "b = 100\n",
    "if (a > 100):\n",
    "    print (\"A es mayor a 100.\")\n",
    "elif(a > 75):\n",
    "    print (\"A es mayor a 75.\")\n",
    "elif(a > 50):\n",
    "    print (\"A es mayor a 50.\")\n",
    "else:\n",
    "    print (\"A es menor a 50.\")"
   ]
  },
  {
   "cell_type": "code",
   "execution_count": 2,
   "metadata": {},
   "outputs": [
    {
     "output_type": "stream",
     "name": "stdout",
     "text": [
      "naranja\nlimón\npomelo\nlíma\n"
     ]
    }
   ],
   "source": [
    "#Sentecia de repetición\n",
    "# Utilizamos FOR para recorrer colecciones.\n",
    "# Cuando fruta es igual a pomelo se finaliza el for con break, por lo que no\n",
    "# muestra el valor de lima.\n",
    "citricos = [\"naranja\", \"limón\", \"pomelo\", \"líma\"]\n",
    "for fruta in citricos:\n",
    "  print(fruta)\n",
    "    if fruta == \"pomelo\": \n",
    "      break\n"
   ]
  },
  {
   "cell_type": "code",
   "execution_count": 3,
   "metadata": {},
   "outputs": [
    {
     "output_type": "stream",
     "name": "stdout",
     "text": [
      "Número: 0\nNúmero: 5\nNúmero: 10\nNúmero: 15\nNúmero: 20\nNúmero: 25\nNúmero: 30\nNúmero: 35\nNúmero: 40\nNúmero: 45\nNúmero: 50\nNúmero: 55\nNúmero: 60\nNúmero: 65\nNúmero: 70\nNúmero: 75\nNúmero: 80\nNúmero: 85\nNúmero: 90\nNúmero: 95\n"
     ]
    }
   ],
   "source": [
    "# Utilizamos FOR con RANGE para establecer un contador y ejecutar \n",
    "# sentencias repetidas veces.\n",
    "# Ejemplo: de 0 a 99 de 5 en 5\n",
    "for i in range(0, 100, 5):\n",
    "    print(f\"Número: {i}\")"
   ]
  },
  {
   "cell_type": "code",
   "execution_count": null,
   "metadata": {},
   "outputs": [],
   "source": []
  }
 ]
}